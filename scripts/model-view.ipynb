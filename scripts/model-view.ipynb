{
 "cells": [
  {
   "cell_type": "code",
   "execution_count": 1,
   "metadata": {},
   "outputs": [
    {
     "name": "stderr",
     "output_type": "stream",
     "text": [
      "/home/ubuntu/.local/lib/python3.8/site-packages/tqdm/auto.py:21: TqdmWarning: IProgress not found. Please update jupyter and ipywidgets. See https://ipywidgets.readthedocs.io/en/stable/user_install.html\n",
      "  from .autonotebook import tqdm as notebook_tqdm\n",
      "config.json: 100%|██████████| 720/720 [00:00<00:00, 229kB/s]\n"
     ]
    }
   ],
   "source": [
    "from accelerate import init_empty_weights, infer_auto_device_map\n",
    "from transformers import AutoConfig, AutoModelForCausalLM\n",
    "\n",
    "# config = AutoConfig.from_pretrained(\"google/gemma-2b-it\")\n",
    "# config = AutoConfig.from_pretrained(\"mistralai/Mistral-7B-v0.1\")\n",
    "config = AutoConfig.from_pretrained(\"mistralai/Mixtral-8x7B-Instruct-v0.1\")\n",
    "with init_empty_weights():\n",
    "    model = AutoModelForCausalLM.from_config(config)"
   ]
  },
  {
   "cell_type": "code",
   "execution_count": 2,
   "metadata": {},
   "outputs": [
    {
     "name": "stdout",
     "output_type": "stream",
     "text": [
      "MixtralForCausalLM(\n",
      "  (model): MixtralModel(\n",
      "    (embed_tokens): Embedding(32000, 4096)\n",
      "    (layers): ModuleList(\n",
      "      (0-31): 32 x MixtralDecoderLayer(\n",
      "        (self_attn): MixtralSdpaAttention(\n",
      "          (q_proj): Linear(in_features=4096, out_features=4096, bias=False)\n",
      "          (k_proj): Linear(in_features=4096, out_features=1024, bias=False)\n",
      "          (v_proj): Linear(in_features=4096, out_features=1024, bias=False)\n",
      "          (o_proj): Linear(in_features=4096, out_features=4096, bias=False)\n",
      "          (rotary_emb): MixtralRotaryEmbedding()\n",
      "        )\n",
      "        (block_sparse_moe): MixtralSparseMoeBlock(\n",
      "          (gate): Linear(in_features=4096, out_features=8, bias=False)\n",
      "          (experts): ModuleList(\n",
      "            (0-7): 8 x MixtralBlockSparseTop2MLP(\n",
      "              (w1): Linear(in_features=4096, out_features=14336, bias=False)\n",
      "              (w2): Linear(in_features=14336, out_features=4096, bias=False)\n",
      "              (w3): Linear(in_features=4096, out_features=14336, bias=False)\n",
      "              (act_fn): SiLU()\n",
      "            )\n",
      "          )\n",
      "        )\n",
      "        (input_layernorm): MixtralRMSNorm()\n",
      "        (post_attention_layernorm): MixtralRMSNorm()\n",
      "      )\n",
      "    )\n",
      "    (norm): MixtralRMSNorm()\n",
      "  )\n",
      "  (lm_head): Linear(in_features=4096, out_features=32000, bias=False)\n",
      ")\n"
     ]
    }
   ],
   "source": [
    "print(model)"
   ]
  },
  {
   "cell_type": "code",
   "execution_count": 3,
   "metadata": {},
   "outputs": [
    {
     "data": {
      "text/plain": [
       "{'model.embed_tokens': 0,\n",
       " 'model.layers.0': 0,\n",
       " 'model.layers.1': 0,\n",
       " 'model.layers.2': 0,\n",
       " 'model.layers.3.self_attn': 0,\n",
       " 'model.layers.3.block_sparse_moe.gate': 0,\n",
       " 'model.layers.3.block_sparse_moe.experts.0': 0,\n",
       " 'model.layers.3.block_sparse_moe.experts.1': 0,\n",
       " 'model.layers.3.block_sparse_moe.experts.2': 0,\n",
       " 'model.layers.3.block_sparse_moe.experts.3': 0,\n",
       " 'model.layers.3.block_sparse_moe.experts.4': 0,\n",
       " 'model.layers.3.block_sparse_moe.experts.6': 'cpu',\n",
       " 'model.layers.3.block_sparse_moe.experts.7': 'cpu',\n",
       " 'model.layers.3.input_layernorm': 'cpu',\n",
       " 'model.layers.3.post_attention_layernorm': 'cpu',\n",
       " 'model.layers.4': 'cpu',\n",
       " 'model.layers.5': 'cpu',\n",
       " 'model.layers.6': 'cpu',\n",
       " 'model.layers.7': 'cpu',\n",
       " 'model.layers.8': 'cpu',\n",
       " 'model.layers.9': 'cpu',\n",
       " 'model.layers.10': 'cpu',\n",
       " 'model.layers.11': 'cpu',\n",
       " 'model.layers.12': 'cpu',\n",
       " 'model.layers.13.self_attn': 'cpu',\n",
       " 'model.layers.13.block_sparse_moe.gate': 'cpu',\n",
       " 'model.layers.13.block_sparse_moe.experts.0.w1': 'cpu',\n",
       " 'model.layers.13.block_sparse_moe.experts.0.w2': 'disk',\n",
       " 'model.layers.13.block_sparse_moe.experts.0.w3': 'disk',\n",
       " 'model.layers.13.block_sparse_moe.experts.0.act_fn': 'disk',\n",
       " 'model.layers.13.block_sparse_moe.experts.1': 'disk',\n",
       " 'model.layers.13.block_sparse_moe.experts.2': 'disk',\n",
       " 'model.layers.13.block_sparse_moe.experts.3': 'disk',\n",
       " 'model.layers.13.block_sparse_moe.experts.4': 'disk',\n",
       " 'model.layers.13.block_sparse_moe.experts.5': 'disk',\n",
       " 'model.layers.13.block_sparse_moe.experts.6': 'disk',\n",
       " 'model.layers.13.block_sparse_moe.experts.7': 'disk',\n",
       " 'model.layers.13.input_layernorm': 'disk',\n",
       " 'model.layers.13.post_attention_layernorm': 'disk',\n",
       " 'model.layers.14': 'disk',\n",
       " 'model.layers.15': 'disk',\n",
       " 'model.layers.16': 'disk',\n",
       " 'model.layers.17': 'disk',\n",
       " 'model.layers.18': 'disk',\n",
       " 'model.layers.19': 'disk',\n",
       " 'model.layers.20': 'disk',\n",
       " 'model.layers.21': 'disk',\n",
       " 'model.layers.22': 'disk',\n",
       " 'model.layers.23': 'disk',\n",
       " 'model.layers.24': 'disk',\n",
       " 'model.layers.25': 'disk',\n",
       " 'model.layers.26': 'disk',\n",
       " 'model.layers.27': 'disk',\n",
       " 'model.layers.28': 'disk',\n",
       " 'model.layers.29': 'disk',\n",
       " 'model.layers.30': 'disk',\n",
       " 'model.layers.31': 'disk',\n",
       " 'model.norm': 'disk',\n",
       " 'lm_head': 'disk',\n",
       " 'model.layers.3.block_sparse_moe.experts.5': 'cpu'}"
      ]
     },
     "execution_count": 3,
     "metadata": {},
     "output_type": "execute_result"
    }
   ],
   "source": [
    "infer_auto_device_map(model)\n"
   ]
  },
  {
   "cell_type": "code",
   "execution_count": 4,
   "metadata": {},
   "outputs": [],
   "source": [
    "def print_trainable_parameters(model):\n",
    "    \"\"\"\n",
    "    Prints the number of trainable parameters in the model.\n",
    "    \"\"\"\n",
    "    trainable_params = 0\n",
    "    all_param = 0\n",
    "    for _, param in model.named_parameters():\n",
    "        all_param += param.numel()\n",
    "        if param.requires_grad:\n",
    "            trainable_params += param.numel()\n",
    "    print(\n",
    "        f\"trainable params: {trainable_params} || all params: {all_param} || trainable%: {100 * trainable_params / all_param}\"\n",
    "    )"
   ]
  },
  {
   "cell_type": "code",
   "execution_count": 5,
   "metadata": {},
   "outputs": [
    {
     "name": "stdout",
     "output_type": "stream",
     "text": [
      "trainable params: 46702792704 || all params: 46702792704 || trainable%: 100.0\n"
     ]
    }
   ],
   "source": [
    "print_trainable_parameters(model)"
   ]
  }
 ],
 "metadata": {
  "kernelspec": {
   "display_name": "Python 3",
   "language": "python",
   "name": "python3"
  },
  "language_info": {
   "codemirror_mode": {
    "name": "ipython",
    "version": 3
   },
   "file_extension": ".py",
   "mimetype": "text/x-python",
   "name": "python",
   "nbconvert_exporter": "python",
   "pygments_lexer": "ipython3",
   "version": "3.10.12"
  }
 },
 "nbformat": 4,
 "nbformat_minor": 2
}
